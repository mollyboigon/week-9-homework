{
 "cells": [
  {
   "cell_type": "markdown",
   "id": "bb333aa4",
   "metadata": {},
   "source": [
    "# NYC traffic accidents over a 4 year period \n",
    "## Filter and Subset\n",
    "\n",
    "Download <a href=\"https://www.dropbox.com/s/585wrgl08djzlyt/accidents-nyc.csv?dl=0\">this dataset</a> stored on dropbox."
   ]
  },
  {
   "cell_type": "code",
   "execution_count": 1,
   "id": "3a4e3c74",
   "metadata": {},
   "outputs": [],
   "source": [
    "## import necessary libraries\n",
    "import pandas as pd"
   ]
  },
  {
   "cell_type": "code",
   "execution_count": 2,
   "id": "506891bb",
   "metadata": {},
   "outputs": [],
   "source": [
    "## read the dataset into notebook\n",
    "accidents_nyc = pd.read_csv(\"data/accidents-nyc.csv\")"
   ]
  },
  {
   "cell_type": "code",
   "execution_count": null,
   "id": "6ef72af2",
   "metadata": {},
   "outputs": [],
   "source": []
  },
  {
   "cell_type": "code",
   "execution_count": 3,
   "id": "d20d8cde",
   "metadata": {},
   "outputs": [
    {
     "name": "stdout",
     "output_type": "stream",
     "text": [
      "<class 'pandas.core.frame.DataFrame'>\n",
      "RangeIndex: 282873 entries, 0 to 282872\n",
      "Data columns (total 16 columns):\n",
      " #   Column                         Non-Null Count   Dtype \n",
      "---  ------                         --------------   ----- \n",
      " 0   CRASH DATE                     282873 non-null  object\n",
      " 1   CRASH TIME                     282873 non-null  object\n",
      " 2   BOROUGH                        282873 non-null  object\n",
      " 3   NUMBER OF PERSONS INJURED      282873 non-null  int64 \n",
      " 4   NUMBER OF PERSONS KILLED       282873 non-null  int64 \n",
      " 5   NUMBER OF PEDESTRIANS INJURED  282873 non-null  int64 \n",
      " 6   NUMBER OF PEDESTRIANS KILLED   282873 non-null  int64 \n",
      " 7   NUMBER OF CYCLIST INJURED      282873 non-null  int64 \n",
      " 8   NUMBER OF CYCLIST KILLED       282873 non-null  int64 \n",
      " 9   NUMBER OF MOTORIST INJURED     282873 non-null  int64 \n",
      " 10  NUMBER OF MOTORIST KILLED      282873 non-null  int64 \n",
      " 11  CONTRIBUTING FACTOR VEHICLE 1  281489 non-null  object\n",
      " 12  CONTRIBUTING FACTOR VEHICLE 2  224591 non-null  object\n",
      " 13  COLLISION_ID                   282873 non-null  int64 \n",
      " 14  VEHICLE TYPE CODE 1            279986 non-null  object\n",
      " 15  VEHICLE TYPE CODE 2            201168 non-null  object\n",
      "dtypes: int64(9), object(7)\n",
      "memory usage: 34.5+ MB\n"
     ]
    }
   ],
   "source": [
    "## see the overall info about this dataset\n",
    "accidents_nyc.info()"
   ]
  },
  {
   "cell_type": "code",
   "execution_count": 13,
   "id": "53561041",
   "metadata": {},
   "outputs": [
    {
     "data": {
      "text/html": [
       "<div>\n",
       "<style scoped>\n",
       "    .dataframe tbody tr th:only-of-type {\n",
       "        vertical-align: middle;\n",
       "    }\n",
       "\n",
       "    .dataframe tbody tr th {\n",
       "        vertical-align: top;\n",
       "    }\n",
       "\n",
       "    .dataframe thead th {\n",
       "        text-align: right;\n",
       "    }\n",
       "</style>\n",
       "<table border=\"1\" class=\"dataframe\">\n",
       "  <thead>\n",
       "    <tr style=\"text-align: right;\">\n",
       "      <th></th>\n",
       "      <th>CRASH DATE</th>\n",
       "      <th>CRASH TIME</th>\n",
       "      <th>BOROUGH</th>\n",
       "      <th>NUMBER OF PERSONS INJURED</th>\n",
       "      <th>NUMBER OF PERSONS KILLED</th>\n",
       "      <th>NUMBER OF PEDESTRIANS INJURED</th>\n",
       "      <th>NUMBER OF PEDESTRIANS KILLED</th>\n",
       "      <th>NUMBER OF CYCLIST INJURED</th>\n",
       "      <th>NUMBER OF CYCLIST KILLED</th>\n",
       "      <th>NUMBER OF MOTORIST INJURED</th>\n",
       "      <th>NUMBER OF MOTORIST KILLED</th>\n",
       "      <th>CONTRIBUTING FACTOR VEHICLE 1</th>\n",
       "      <th>CONTRIBUTING FACTOR VEHICLE 2</th>\n",
       "      <th>COLLISION_ID</th>\n",
       "      <th>VEHICLE TYPE CODE 1</th>\n",
       "      <th>VEHICLE TYPE CODE 2</th>\n",
       "    </tr>\n",
       "  </thead>\n",
       "  <tbody>\n",
       "    <tr>\n",
       "      <th>129041</th>\n",
       "      <td>1/29/20</td>\n",
       "      <td>3:03</td>\n",
       "      <td>BROOKLYN</td>\n",
       "      <td>0</td>\n",
       "      <td>0</td>\n",
       "      <td>0</td>\n",
       "      <td>0</td>\n",
       "      <td>0</td>\n",
       "      <td>0</td>\n",
       "      <td>0</td>\n",
       "      <td>0</td>\n",
       "      <td>Unspecified</td>\n",
       "      <td>NaN</td>\n",
       "      <td>4280455</td>\n",
       "      <td>Sedan</td>\n",
       "      <td>NaN</td>\n",
       "    </tr>\n",
       "  </tbody>\n",
       "</table>\n",
       "</div>"
      ],
      "text/plain": [
       "       CRASH DATE CRASH TIME   BOROUGH  NUMBER OF PERSONS INJURED  \\\n",
       "129041    1/29/20       3:03  BROOKLYN                          0   \n",
       "\n",
       "        NUMBER OF PERSONS KILLED  NUMBER OF PEDESTRIANS INJURED  \\\n",
       "129041                         0                              0   \n",
       "\n",
       "        NUMBER OF PEDESTRIANS KILLED  NUMBER OF CYCLIST INJURED  \\\n",
       "129041                             0                          0   \n",
       "\n",
       "        NUMBER OF CYCLIST KILLED  NUMBER OF MOTORIST INJURED  \\\n",
       "129041                         0                           0   \n",
       "\n",
       "        NUMBER OF MOTORIST KILLED CONTRIBUTING FACTOR VEHICLE 1  \\\n",
       "129041                          0                   Unspecified   \n",
       "\n",
       "       CONTRIBUTING FACTOR VEHICLE 2  COLLISION_ID VEHICLE TYPE CODE 1  \\\n",
       "129041                           NaN       4280455               Sedan   \n",
       "\n",
       "       VEHICLE TYPE CODE 2  \n",
       "129041                 NaN  "
      ]
     },
     "execution_count": 13,
     "metadata": {},
     "output_type": "execute_result"
    }
   ],
   "source": [
    "accidents_nyc.sample()"
   ]
  },
  {
   "cell_type": "code",
   "execution_count": 5,
   "id": "0cad6845",
   "metadata": {},
   "outputs": [
    {
     "data": {
      "text/plain": [
       "0         4/13/21\n",
       "1         4/13/21\n",
       "2         4/13/21\n",
       "3         4/11/21\n",
       "4         4/15/21\n",
       "           ...   \n",
       "282868     1/1/19\n",
       "282869     1/1/19\n",
       "282870     1/1/19\n",
       "282871     1/1/19\n",
       "282872     1/1/19\n",
       "Name: CRASH DATE, Length: 282873, dtype: object"
      ]
     },
     "execution_count": 5,
     "metadata": {},
     "output_type": "execute_result"
    }
   ],
   "source": [
    "## create a series of crash dates.\n",
    "accidents_crash_dates = accidents_nyc[\"CRASH DATE\"]\n",
    "accidents_crash_dates"
   ]
  },
  {
   "cell_type": "code",
   "execution_count": 6,
   "id": "f2b6b17a",
   "metadata": {},
   "outputs": [
    {
     "data": {
      "text/plain": [
       "BROOKLYN         95099\n",
       "QUEENS           80085\n",
       "BRONX            50123\n",
       "MANHATTAN        48864\n",
       "STATEN ISLAND     8702\n",
       "Name: BOROUGH, dtype: int64"
      ]
     },
     "execution_count": 6,
     "metadata": {},
     "output_type": "execute_result"
    }
   ],
   "source": [
    "## Which borough had the most crashes?\n",
    "accidents_nyc[\"BOROUGH\"].value_counts()"
   ]
  },
  {
   "cell_type": "code",
   "execution_count": 8,
   "id": "d556522d",
   "metadata": {},
   "outputs": [
    {
     "data": {
      "text/plain": [
       "Sedan                                  129987\n",
       "Station Wagon/Sport Utility Vehicle    102850\n",
       "Taxi                                    10647\n",
       "Pick-up Truck                            7183\n",
       "Box Truck                                5504\n",
       "                                        ...  \n",
       "SLINGSHOT                                   1\n",
       "CHEVY EXPR                                  1\n",
       "Go kart                                     1\n",
       "FDNY Engin                                  1\n",
       "MAC T                                       1\n",
       "Name: VEHICLE TYPE CODE 1, Length: 633, dtype: int64"
      ]
     },
     "execution_count": 8,
     "metadata": {},
     "output_type": "execute_result"
    }
   ],
   "source": [
    "## which type of vehicle was primary vehicle involved in crashes?\n",
    "accidents_nyc[\"VEHICLE TYPE CODE 1\"].value_counts()\n",
    "#SEDANS"
   ]
  },
  {
   "cell_type": "code",
   "execution_count": 9,
   "id": "9a58d654",
   "metadata": {},
   "outputs": [
    {
     "data": {
      "text/plain": [
       "Sedan                                  84241\n",
       "Station Wagon/Sport Utility Vehicle    68723\n",
       "Bike                                    8544\n",
       "Taxi                                    6939\n",
       "Box Truck                               6365\n",
       "                                       ...  \n",
       "e-bike                                     1\n",
       "FRIEGHTLIN                                 1\n",
       "ESCOOTER                                   1\n",
       "Electric s                                 1\n",
       "G COM                                      1\n",
       "Name: VEHICLE TYPE CODE 2, Length: 735, dtype: int64"
      ]
     },
     "execution_count": 9,
     "metadata": {},
     "output_type": "execute_result"
    }
   ],
   "source": [
    "accidents_nyc[\"VEHICLE TYPE CODE 2\"].value_counts()"
   ]
  },
  {
   "cell_type": "code",
   "execution_count": 11,
   "id": "6ff927a5",
   "metadata": {},
   "outputs": [
    {
     "data": {
      "text/plain": [
       "Sedan                                  129987\n",
       "Station Wagon/Sport Utility Vehicle    102850\n",
       "Taxi                                    10647\n",
       "Pick-up Truck                            7183\n",
       "Box Truck                                5504\n",
       "Bus                                      4697\n",
       "Bike                                     3177\n",
       "Name: VEHICLE TYPE CODE 1, dtype: int64"
      ]
     },
     "execution_count": 11,
     "metadata": {},
     "output_type": "execute_result"
    }
   ],
   "source": [
    "## SHOW ONLY THE TOP 7\n",
    "accidents_nyc[\"VEHICLE TYPE CODE 1\"].value_counts().head(7)"
   ]
  },
  {
   "cell_type": "code",
   "execution_count": 12,
   "id": "83dfc384",
   "metadata": {},
   "outputs": [
    {
     "data": {
      "text/plain": [
       "SLINGSHOT     1\n",
       "CHEVY EXPR    1\n",
       "Go kart       1\n",
       "FDNY Engin    1\n",
       "MAC T         1\n",
       "Name: VEHICLE TYPE CODE 1, dtype: int64"
      ]
     },
     "execution_count": 12,
     "metadata": {},
     "output_type": "execute_result"
    }
   ],
   "source": [
    "## What were a FIVE unusual primary vehicles to get into a crash?\n",
    "accidents_nyc[\"VEHICLE TYPE CODE 1\"].value_counts().tail(5)"
   ]
  },
  {
   "cell_type": "code",
   "execution_count": 14,
   "id": "8df45602",
   "metadata": {},
   "outputs": [],
   "source": [
    "## create a subset of data for only Queens\n",
    "## place it in a dataframe called df_q\n",
    "df_q = accidents_nyc[accidents_nyc[\"BOROUGH\"] == \"QUEENS\"]"
   ]
  },
  {
   "cell_type": "code",
   "execution_count": 24,
   "id": "f7eee32b",
   "metadata": {},
   "outputs": [
    {
     "data": {
      "text/plain": [
       "120"
      ]
     },
     "execution_count": 24,
     "metadata": {},
     "output_type": "execute_result"
    }
   ],
   "source": [
    "## CHALLENGE (as in you have to google this)\n",
    "## How many people were killed in Queens in accidents?\n",
    "queens_deaths = df_q[df_q[\"NUMBER OF PERSONS KILLED\"] >= 1]\n",
    "queens_deaths[\"NUMBER OF PERSONS KILLED\"].sum()"
   ]
  },
  {
   "cell_type": "code",
   "execution_count": 27,
   "id": "be6822f8",
   "metadata": {},
   "outputs": [
    {
     "data": {
      "text/plain": [
       "8"
      ]
     },
     "execution_count": 27,
     "metadata": {},
     "output_type": "execute_result"
    }
   ],
   "source": [
    "## Same\n",
    "## how many cyclists were killed in Queens?\n",
    "queens_deaths[\"NUMBER OF CYCLIST KILLED\"].sum()"
   ]
  },
  {
   "cell_type": "code",
   "execution_count": 36,
   "id": "907f1f21",
   "metadata": {},
   "outputs": [],
   "source": [
    "## Filter and subset \n",
    "## create a dataset for Manhattan that involved taxi cabs as the primary vehicle cause\n",
    "filter_manhattan = accidents_nyc[\"BOROUGH\"] == \"MANHATTAN\"\n",
    "filter_cabs = accidents_nyc[\"VEHICLE TYPE CODE 1\"] == \"Taxi\"\n",
    "df_manhattan_cabs = accidents_nyc[filter_cabs & filter_manhattan]"
   ]
  },
  {
   "cell_type": "code",
   "execution_count": 38,
   "id": "32704f24",
   "metadata": {},
   "outputs": [
    {
     "data": {
      "text/plain": [
       "Unspecified                       78494\n",
       "Driver Inattention/Distraction    70615\n",
       "Failure to Yield Right-of-Way     20691\n",
       "Following Too Closely             14407\n",
       "Backing Unsafely                  13348\n",
       "Name: CONTRIBUTING FACTOR VEHICLE 1, dtype: int64"
      ]
     },
     "execution_count": 38,
     "metadata": {},
     "output_type": "execute_result"
    }
   ],
   "source": [
    "## What were the top 5 causes of accidents across all the boroughs?\n",
    "## by primary vehicle cause\n",
    "\n",
    "accidents_nyc[\"CONTRIBUTING FACTOR VEHICLE 1\"].value_counts().head()\n",
    "\n"
   ]
  },
  {
   "cell_type": "code",
   "execution_count": 39,
   "id": "77e3122f",
   "metadata": {},
   "outputs": [
    {
     "data": {
      "text/plain": [
       "Unspecified                       190456\n",
       "Driver Inattention/Distraction     14186\n",
       "Other Vehicular                     3529\n",
       "Failure to Yield Right-of-Way       2233\n",
       "Passing or Lane Usage Improper      2171\n",
       "Name: CONTRIBUTING FACTOR VEHICLE 2, dtype: int64"
      ]
     },
     "execution_count": 39,
     "metadata": {},
     "output_type": "execute_result"
    }
   ],
   "source": [
    "## What were the top 5 causes of accidents across all the boroughs?\n",
    "## by secondary vehicle cause\n",
    "accidents_nyc[\"CONTRIBUTING FACTOR VEHICLE 2\"].value_counts().head()"
   ]
  },
  {
   "cell_type": "code",
   "execution_count": 40,
   "id": "d524c89e",
   "metadata": {},
   "outputs": [
    {
     "data": {
      "text/plain": [
       "Shoulders Defective/Improper    13\n",
       "Texting                          8\n",
       "Cell Phone (hands-free)          8\n",
       "Windshield Inadequate            3\n",
       "Listening/Using Headphones       2\n",
       "Name: CONTRIBUTING FACTOR VEHICLE 1, dtype: int64"
      ]
     },
     "execution_count": 40,
     "metadata": {},
     "output_type": "execute_result"
    }
   ],
   "source": [
    "## What were the 5 RAREST causes for primary vehicles causing the accident\n",
    "\n",
    "accidents_nyc[\"CONTRIBUTING FACTOR VEHICLE 1\"].value_counts().tail()"
   ]
  },
  {
   "cell_type": "code",
   "execution_count": 42,
   "id": "c67fbfac",
   "metadata": {},
   "outputs": [],
   "source": [
    "## list ALL the causes as unique values (in other words, create a list of the causes)\n",
    "## WHAT ARE SOME UNUSUAL REASONS FOR ACCIDENTS\n",
    "primary_vehicle_reasons = accidents_nyc[\"CONTRIBUTING FACTOR VEHICLE 1\"]\n",
    "secondary_vehicle_reasons = accidents_nyc[\"CONTRIBUTING FACTOR VEHICLE 2\"]\n",
    "\n",
    "primary_secondary_vehicle_reasons = [primary_vehicle_reasons, secondary_vehicle_reasons]\n",
    "\n",
    "all_reasons = pd.concat(primary_secondary_vehicle_reasons)"
   ]
  },
  {
   "cell_type": "code",
   "execution_count": 45,
   "id": "3f7ad5c2",
   "metadata": {},
   "outputs": [
    {
     "data": {
      "text/plain": [
       "Shoulders Defective/Improper    14\n",
       "Cell Phone (hands-free)         11\n",
       "Texting                          9\n",
       "Listening/Using Headphones       8\n",
       "Windshield Inadequate            3\n",
       "dtype: int64"
      ]
     },
     "execution_count": 45,
     "metadata": {},
     "output_type": "execute_result"
    }
   ],
   "source": [
    "all_reasons.value_counts().tail(5)"
   ]
  },
  {
   "cell_type": "code",
   "execution_count": null,
   "id": "056e2b3d",
   "metadata": {},
   "outputs": [],
   "source": []
  }
 ],
 "metadata": {
  "kernelspec": {
   "display_name": "Python 3 (ipykernel)",
   "language": "python",
   "name": "python3"
  },
  "language_info": {
   "codemirror_mode": {
    "name": "ipython",
    "version": 3
   },
   "file_extension": ".py",
   "mimetype": "text/x-python",
   "name": "python",
   "nbconvert_exporter": "python",
   "pygments_lexer": "ipython3",
   "version": "3.9.7"
  }
 },
 "nbformat": 4,
 "nbformat_minor": 5
}
